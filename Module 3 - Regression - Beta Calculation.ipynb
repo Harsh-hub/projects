{
 "cells": [
  {
   "cell_type": "markdown",
   "metadata": {},
   "source": [
    "# Module 3- Regression & Beta Calculation\n",
    "\n"
   ]
  },
  {
   "cell_type": "markdown",
   "metadata": {},
   "source": [
    "   ### Welcome to the Answer notebook for Module 3 ! \n",
    "Make sure that you've submitted the module 2 notebook and unlocked Module 3 yourself before you start coding here\n"
   ]
  },
  {
   "cell_type": "markdown",
   "metadata": {},
   "source": [
    "#--------------------------------------------------------------------------------------------------------------------------------------------------------------------------------------------------------#"
   ]
  },
  {
   "cell_type": "markdown",
   "metadata": {},
   "source": [
    "### Query 3.1 \n",
    "Import the file 'gold.csv', which is contains the data about last 2 years price action of Indian(MCX) gold standard. Explore the dataframe. You'd see 2 unique columns - 'Pred' and 'new'.\n",
    "\n",
    "One of the 2 columns is a linear combination of the OHLC prices with varying coefficients while the other is a polynomial fucntion of the same inputs. Also, one of the 2 columns is partially filled.\n",
    "\n",
    ">Using linear regression, find the coefficients of the inputs and using the same trained model, complete the\n",
    "      entire column.\n",
    "      \n",
    ">Also, try to fit the other column as well using a new linear regression model. Check if the predicitons are \n",
    "      accurate.\n",
    "      Mention which column is a linear function and which is a polynomial function.\n",
    "      (Hint: Plotting a histogram & distplot helps in recognizing the  discrepencies in prediction, if any.)"
   ]
  },
  {
   "cell_type": "code",
   "execution_count": 30,
   "metadata": {},
   "outputs": [],
   "source": [
    "import pandas as pd\n",
    "import matplotlib.pyplot as plt\n",
    "import numpy as np\n",
    "import seaborn as sb"
   ]
  },
  {
   "cell_type": "code",
   "execution_count": 4,
   "metadata": {},
   "outputs": [],
   "source": [
    "df=pd.read_csv(\"GOLD.csv\")"
   ]
  },
  {
   "cell_type": "code",
   "execution_count": 5,
   "metadata": {},
   "outputs": [
    {
     "data": {
      "text/html": [
       "<div>\n",
       "<style scoped>\n",
       "    .dataframe tbody tr th:only-of-type {\n",
       "        vertical-align: middle;\n",
       "    }\n",
       "\n",
       "    .dataframe tbody tr th {\n",
       "        vertical-align: top;\n",
       "    }\n",
       "\n",
       "    .dataframe thead th {\n",
       "        text-align: right;\n",
       "    }\n",
       "</style>\n",
       "<table border=\"1\" class=\"dataframe\">\n",
       "  <thead>\n",
       "    <tr style=\"text-align: right;\">\n",
       "      <th></th>\n",
       "      <th>Date</th>\n",
       "      <th>Price</th>\n",
       "      <th>Open</th>\n",
       "      <th>High</th>\n",
       "      <th>Low</th>\n",
       "      <th>Vol.</th>\n",
       "      <th>Change %</th>\n",
       "      <th>Pred</th>\n",
       "      <th>new</th>\n",
       "    </tr>\n",
       "  </thead>\n",
       "  <tbody>\n",
       "    <tr>\n",
       "      <th>0</th>\n",
       "      <td>May 04, 2017</td>\n",
       "      <td>28060</td>\n",
       "      <td>28400</td>\n",
       "      <td>28482</td>\n",
       "      <td>28025</td>\n",
       "      <td>0.08K</td>\n",
       "      <td>-1.79%</td>\n",
       "      <td>738.0</td>\n",
       "      <td>117.570740</td>\n",
       "    </tr>\n",
       "    <tr>\n",
       "      <th>1</th>\n",
       "      <td>May 05, 2017</td>\n",
       "      <td>28184</td>\n",
       "      <td>28136</td>\n",
       "      <td>28382</td>\n",
       "      <td>28135</td>\n",
       "      <td>0.06K</td>\n",
       "      <td>0.44%</td>\n",
       "      <td>-146.0</td>\n",
       "      <td>295.430176</td>\n",
       "    </tr>\n",
       "    <tr>\n",
       "      <th>2</th>\n",
       "      <td>May 08, 2017</td>\n",
       "      <td>28119</td>\n",
       "      <td>28145</td>\n",
       "      <td>28255</td>\n",
       "      <td>28097</td>\n",
       "      <td>7.85K</td>\n",
       "      <td>-0.23%</td>\n",
       "      <td>30.0</td>\n",
       "      <td>132.123714</td>\n",
       "    </tr>\n",
       "    <tr>\n",
       "      <th>3</th>\n",
       "      <td>May 09, 2017</td>\n",
       "      <td>27981</td>\n",
       "      <td>28125</td>\n",
       "      <td>28192</td>\n",
       "      <td>27947</td>\n",
       "      <td>10.10K</td>\n",
       "      <td>-0.49%</td>\n",
       "      <td>357.0</td>\n",
       "      <td>101.298064</td>\n",
       "    </tr>\n",
       "    <tr>\n",
       "      <th>4</th>\n",
       "      <td>May 10, 2017</td>\n",
       "      <td>28007</td>\n",
       "      <td>28060</td>\n",
       "      <td>28146</td>\n",
       "      <td>27981</td>\n",
       "      <td>9.28K</td>\n",
       "      <td>0.09%</td>\n",
       "      <td>124.0</td>\n",
       "      <td>112.153318</td>\n",
       "    </tr>\n",
       "  </tbody>\n",
       "</table>\n",
       "</div>"
      ],
      "text/plain": [
       "           Date  Price   Open   High    Low    Vol. Change %   Pred  \\\n",
       "0  May 04, 2017  28060  28400  28482  28025   0.08K   -1.79%  738.0   \n",
       "1  May 05, 2017  28184  28136  28382  28135   0.06K    0.44% -146.0   \n",
       "2  May 08, 2017  28119  28145  28255  28097   7.85K   -0.23%   30.0   \n",
       "3  May 09, 2017  27981  28125  28192  27947  10.10K   -0.49%  357.0   \n",
       "4  May 10, 2017  28007  28060  28146  27981   9.28K    0.09%  124.0   \n",
       "\n",
       "          new  \n",
       "0  117.570740  \n",
       "1  295.430176  \n",
       "2  132.123714  \n",
       "3  101.298064  \n",
       "4  112.153318  "
      ]
     },
     "execution_count": 5,
     "metadata": {},
     "output_type": "execute_result"
    }
   ],
   "source": [
    "df.head()"
   ]
  },
  {
   "cell_type": "code",
   "execution_count": 6,
   "metadata": {},
   "outputs": [
    {
     "data": {
      "text/plain": [
       "(512, 9)"
      ]
     },
     "execution_count": 6,
     "metadata": {},
     "output_type": "execute_result"
    }
   ],
   "source": [
    "df.shape"
   ]
  },
  {
   "cell_type": "code",
   "execution_count": 7,
   "metadata": {
    "scrolled": true
   },
   "outputs": [
    {
     "data": {
      "text/plain": [
       "Date        512\n",
       "Price       512\n",
       "Open        512\n",
       "High        512\n",
       "Low         512\n",
       "Vol.        512\n",
       "Change %    512\n",
       "Pred        411\n",
       "new         512\n",
       "dtype: int64"
      ]
     },
     "execution_count": 7,
     "metadata": {},
     "output_type": "execute_result"
    }
   ],
   "source": [
    "df.count()"
   ]
  },
  {
   "cell_type": "code",
   "execution_count": 8,
   "metadata": {},
   "outputs": [
    {
     "data": {
      "text/plain": [
       "Date          0\n",
       "Price         0\n",
       "Open          0\n",
       "High          0\n",
       "Low           0\n",
       "Vol.          0\n",
       "Change %      0\n",
       "Pred        101\n",
       "new           0\n",
       "dtype: int64"
      ]
     },
     "execution_count": 8,
     "metadata": {},
     "output_type": "execute_result"
    }
   ],
   "source": [
    "df.isnull().sum()"
   ]
  },
  {
   "cell_type": "code",
   "execution_count": 9,
   "metadata": {},
   "outputs": [],
   "source": [
    "df_notnull=df.dropna()"
   ]
  },
  {
   "cell_type": "code",
   "execution_count": 10,
   "metadata": {
    "scrolled": true
   },
   "outputs": [
    {
     "data": {
      "text/plain": [
       "Date        0\n",
       "Price       0\n",
       "Open        0\n",
       "High        0\n",
       "Low         0\n",
       "Vol.        0\n",
       "Change %    0\n",
       "Pred        0\n",
       "new         0\n",
       "dtype: int64"
      ]
     },
     "execution_count": 10,
     "metadata": {},
     "output_type": "execute_result"
    }
   ],
   "source": [
    "df_notnull.isnull().sum()"
   ]
  },
  {
   "cell_type": "code",
   "execution_count": 11,
   "metadata": {},
   "outputs": [
    {
     "data": {
      "text/html": [
       "<div>\n",
       "<style scoped>\n",
       "    .dataframe tbody tr th:only-of-type {\n",
       "        vertical-align: middle;\n",
       "    }\n",
       "\n",
       "    .dataframe tbody tr th {\n",
       "        vertical-align: top;\n",
       "    }\n",
       "\n",
       "    .dataframe thead th {\n",
       "        text-align: right;\n",
       "    }\n",
       "</style>\n",
       "<table border=\"1\" class=\"dataframe\">\n",
       "  <thead>\n",
       "    <tr style=\"text-align: right;\">\n",
       "      <th></th>\n",
       "      <th>Date</th>\n",
       "      <th>Price</th>\n",
       "      <th>Open</th>\n",
       "      <th>High</th>\n",
       "      <th>Low</th>\n",
       "      <th>Vol.</th>\n",
       "      <th>Change %</th>\n",
       "      <th>Pred</th>\n",
       "      <th>new</th>\n",
       "    </tr>\n",
       "  </thead>\n",
       "  <tbody>\n",
       "    <tr>\n",
       "      <th>0</th>\n",
       "      <td>May 04, 2017</td>\n",
       "      <td>28060</td>\n",
       "      <td>28400</td>\n",
       "      <td>28482</td>\n",
       "      <td>28025</td>\n",
       "      <td>0.08K</td>\n",
       "      <td>-1.79%</td>\n",
       "      <td>738.0</td>\n",
       "      <td>117.570740</td>\n",
       "    </tr>\n",
       "    <tr>\n",
       "      <th>1</th>\n",
       "      <td>May 05, 2017</td>\n",
       "      <td>28184</td>\n",
       "      <td>28136</td>\n",
       "      <td>28382</td>\n",
       "      <td>28135</td>\n",
       "      <td>0.06K</td>\n",
       "      <td>0.44%</td>\n",
       "      <td>-146.0</td>\n",
       "      <td>295.430176</td>\n",
       "    </tr>\n",
       "    <tr>\n",
       "      <th>2</th>\n",
       "      <td>May 08, 2017</td>\n",
       "      <td>28119</td>\n",
       "      <td>28145</td>\n",
       "      <td>28255</td>\n",
       "      <td>28097</td>\n",
       "      <td>7.85K</td>\n",
       "      <td>-0.23%</td>\n",
       "      <td>30.0</td>\n",
       "      <td>132.123714</td>\n",
       "    </tr>\n",
       "    <tr>\n",
       "      <th>3</th>\n",
       "      <td>May 09, 2017</td>\n",
       "      <td>27981</td>\n",
       "      <td>28125</td>\n",
       "      <td>28192</td>\n",
       "      <td>27947</td>\n",
       "      <td>10.10K</td>\n",
       "      <td>-0.49%</td>\n",
       "      <td>357.0</td>\n",
       "      <td>101.298064</td>\n",
       "    </tr>\n",
       "    <tr>\n",
       "      <th>4</th>\n",
       "      <td>May 10, 2017</td>\n",
       "      <td>28007</td>\n",
       "      <td>28060</td>\n",
       "      <td>28146</td>\n",
       "      <td>27981</td>\n",
       "      <td>9.28K</td>\n",
       "      <td>0.09%</td>\n",
       "      <td>124.0</td>\n",
       "      <td>112.153318</td>\n",
       "    </tr>\n",
       "  </tbody>\n",
       "</table>\n",
       "</div>"
      ],
      "text/plain": [
       "           Date  Price   Open   High    Low    Vol. Change %   Pred  \\\n",
       "0  May 04, 2017  28060  28400  28482  28025   0.08K   -1.79%  738.0   \n",
       "1  May 05, 2017  28184  28136  28382  28135   0.06K    0.44% -146.0   \n",
       "2  May 08, 2017  28119  28145  28255  28097   7.85K   -0.23%   30.0   \n",
       "3  May 09, 2017  27981  28125  28192  27947  10.10K   -0.49%  357.0   \n",
       "4  May 10, 2017  28007  28060  28146  27981   9.28K    0.09%  124.0   \n",
       "\n",
       "          new  \n",
       "0  117.570740  \n",
       "1  295.430176  \n",
       "2  132.123714  \n",
       "3  101.298064  \n",
       "4  112.153318  "
      ]
     },
     "execution_count": 11,
     "metadata": {},
     "output_type": "execute_result"
    }
   ],
   "source": [
    "df_notnull.head()"
   ]
  },
  {
   "cell_type": "code",
   "execution_count": null,
   "metadata": {},
   "outputs": [],
   "source": []
  },
  {
   "cell_type": "code",
   "execution_count": 12,
   "metadata": {},
   "outputs": [],
   "source": [
    "x = df_notnull[['Price','Open','High','Low']]\n",
    "y = df_notnull['Pred']"
   ]
  },
  {
   "cell_type": "code",
   "execution_count": 13,
   "metadata": {
    "scrolled": true
   },
   "outputs": [],
   "source": [
    "from sklearn.model_selection import train_test_split\n",
    "X_train,X_test,y_train,y_test= train_test_split(x,y,test_size=0.33,random_state=30)"
   ]
  },
  {
   "cell_type": "code",
   "execution_count": 14,
   "metadata": {},
   "outputs": [
    {
     "data": {
      "text/html": [
       "<div>\n",
       "<style scoped>\n",
       "    .dataframe tbody tr th:only-of-type {\n",
       "        vertical-align: middle;\n",
       "    }\n",
       "\n",
       "    .dataframe tbody tr th {\n",
       "        vertical-align: top;\n",
       "    }\n",
       "\n",
       "    .dataframe thead th {\n",
       "        text-align: right;\n",
       "    }\n",
       "</style>\n",
       "<table border=\"1\" class=\"dataframe\">\n",
       "  <thead>\n",
       "    <tr style=\"text-align: right;\">\n",
       "      <th></th>\n",
       "      <th>Price</th>\n",
       "      <th>Open</th>\n",
       "      <th>High</th>\n",
       "      <th>Low</th>\n",
       "    </tr>\n",
       "  </thead>\n",
       "  <tbody>\n",
       "    <tr>\n",
       "      <th>195</th>\n",
       "      <td>29976</td>\n",
       "      <td>30219</td>\n",
       "      <td>30259</td>\n",
       "      <td>29950</td>\n",
       "    </tr>\n",
       "    <tr>\n",
       "      <th>166</th>\n",
       "      <td>29092</td>\n",
       "      <td>28890</td>\n",
       "      <td>29110</td>\n",
       "      <td>28888</td>\n",
       "    </tr>\n",
       "    <tr>\n",
       "      <th>244</th>\n",
       "      <td>31410</td>\n",
       "      <td>31243</td>\n",
       "      <td>31483</td>\n",
       "      <td>31177</td>\n",
       "    </tr>\n",
       "    <tr>\n",
       "      <th>80</th>\n",
       "      <td>29086</td>\n",
       "      <td>29001</td>\n",
       "      <td>29134</td>\n",
       "      <td>28716</td>\n",
       "    </tr>\n",
       "    <tr>\n",
       "      <th>383</th>\n",
       "      <td>31783</td>\n",
       "      <td>31671</td>\n",
       "      <td>31818</td>\n",
       "      <td>31619</td>\n",
       "    </tr>\n",
       "  </tbody>\n",
       "</table>\n",
       "</div>"
      ],
      "text/plain": [
       "     Price   Open   High    Low\n",
       "195  29976  30219  30259  29950\n",
       "166  29092  28890  29110  28888\n",
       "244  31410  31243  31483  31177\n",
       "80   29086  29001  29134  28716\n",
       "383  31783  31671  31818  31619"
      ]
     },
     "execution_count": 14,
     "metadata": {},
     "output_type": "execute_result"
    }
   ],
   "source": [
    "X_train.head()"
   ]
  },
  {
   "cell_type": "code",
   "execution_count": 15,
   "metadata": {},
   "outputs": [
    {
     "data": {
      "text/plain": [
       "195     550.0\n",
       "166     192.0\n",
       "244     358.0\n",
       "80     1177.0\n",
       "383     285.0\n",
       "Name: Pred, dtype: float64"
      ]
     },
     "execution_count": 15,
     "metadata": {},
     "output_type": "execute_result"
    }
   ],
   "source": [
    "y_train.head()"
   ]
  },
  {
   "cell_type": "code",
   "execution_count": 16,
   "metadata": {},
   "outputs": [],
   "source": [
    "from sklearn import linear_model"
   ]
  },
  {
   "cell_type": "code",
   "execution_count": 17,
   "metadata": {},
   "outputs": [],
   "source": [
    "lg = linear_model.LinearRegression()"
   ]
  },
  {
   "cell_type": "code",
   "execution_count": 18,
   "metadata": {},
   "outputs": [
    {
     "data": {
      "text/plain": [
       "LinearRegression(copy_X=True, fit_intercept=True, n_jobs=1, normalize=False)"
      ]
     },
     "execution_count": 18,
     "metadata": {},
     "output_type": "execute_result"
    }
   ],
   "source": [
    "lg.fit(X_train,y_train)"
   ]
  },
  {
   "cell_type": "code",
   "execution_count": 19,
   "metadata": {},
   "outputs": [
    {
     "data": {
      "text/plain": [
       "array([ 2.,  3., -1., -4.])"
      ]
     },
     "execution_count": 19,
     "metadata": {},
     "output_type": "execute_result"
    }
   ],
   "source": [
    "lg.coef_"
   ]
  },
  {
   "cell_type": "code",
   "execution_count": 20,
   "metadata": {},
   "outputs": [
    {
     "data": {
      "text/html": [
       "<div>\n",
       "<style scoped>\n",
       "    .dataframe tbody tr th:only-of-type {\n",
       "        vertical-align: middle;\n",
       "    }\n",
       "\n",
       "    .dataframe tbody tr th {\n",
       "        vertical-align: top;\n",
       "    }\n",
       "\n",
       "    .dataframe thead th {\n",
       "        text-align: right;\n",
       "    }\n",
       "</style>\n",
       "<table border=\"1\" class=\"dataframe\">\n",
       "  <thead>\n",
       "    <tr style=\"text-align: right;\">\n",
       "      <th></th>\n",
       "      <th>coefficient</th>\n",
       "    </tr>\n",
       "  </thead>\n",
       "  <tbody>\n",
       "    <tr>\n",
       "      <th>Price</th>\n",
       "      <td>2.0</td>\n",
       "    </tr>\n",
       "    <tr>\n",
       "      <th>Open</th>\n",
       "      <td>3.0</td>\n",
       "    </tr>\n",
       "    <tr>\n",
       "      <th>High</th>\n",
       "      <td>-1.0</td>\n",
       "    </tr>\n",
       "    <tr>\n",
       "      <th>Low</th>\n",
       "      <td>-4.0</td>\n",
       "    </tr>\n",
       "  </tbody>\n",
       "</table>\n",
       "</div>"
      ],
      "text/plain": [
       "       coefficient\n",
       "Price          2.0\n",
       "Open           3.0\n",
       "High          -1.0\n",
       "Low           -4.0"
      ]
     },
     "execution_count": 20,
     "metadata": {},
     "output_type": "execute_result"
    }
   ],
   "source": [
    "coefficient= pd.DataFrame(lg.coef_,x.columns,columns=['coefficient'])\n",
    "coefficient"
   ]
  },
  {
   "cell_type": "code",
   "execution_count": 23,
   "metadata": {},
   "outputs": [],
   "source": [
    "predict = lg.predict(X_test)"
   ]
  },
  {
   "cell_type": "code",
   "execution_count": 26,
   "metadata": {},
   "outputs": [
    {
     "data": {
      "text/plain": [
       "<matplotlib.collections.PathCollection at 0x7f778307f630>"
      ]
     },
     "execution_count": 26,
     "metadata": {},
     "output_type": "execute_result"
    },
    {
     "data": {
      "image/png": "[encoded data removed]",
      "text/plain": [
       "<Figure size 432x288 with 1 Axes>"
      ]
     },
     "metadata": {},
     "output_type": "display_data"
    }
   ],
   "source": [
    "plt.scatter(y_test,predict,c=['g','r'])"
   ]
  },
  {
   "cell_type": "code",
   "execution_count": 27,
   "metadata": {},
   "outputs": [],
   "source": [
    "df['Pred']=lg.predict(df[['Price','Open','High','Low']])"
   ]
  },
  {
   "cell_type": "code",
   "execution_count": 28,
   "metadata": {},
   "outputs": [
    {
     "data": {
      "text/plain": [
       "(512, 9)"
      ]
     },
     "execution_count": 28,
     "metadata": {},
     "output_type": "execute_result"
    }
   ],
   "source": [
    "df.shape"
   ]
  },
  {
   "cell_type": "code",
   "execution_count": 30,
   "metadata": {},
   "outputs": [
    {
     "data": {
      "text/plain": [
       "Date        0\n",
       "Price       0\n",
       "Open        0\n",
       "High        0\n",
       "Low         0\n",
       "Vol.        0\n",
       "Change %    0\n",
       "Pred        0\n",
       "new         0\n",
       "dtype: int64"
      ]
     },
     "execution_count": 30,
     "metadata": {},
     "output_type": "execute_result"
    }
   ],
   "source": [
    "df.isnull().sum()"
   ]
  },
  {
   "cell_type": "code",
   "execution_count": 31,
   "metadata": {},
   "outputs": [
    {
     "name": "stderr",
     "output_type": "stream",
     "text": [
      "/opt/anaconda/lib/python3.6/site-packages/matplotlib/axes/_axes.py:6462: UserWarning: The 'normed' kwarg is deprecated, and has been replaced by the 'density' kwarg.\n",
      "  warnings.warn(\"The 'normed' kwarg is deprecated, and has been \"\n"
     ]
    },
    {
     "data": {
      "text/plain": [
       "<matplotlib.axes._subplots.AxesSubplot at 0x7f7783030dd8>"
      ]
     },
     "execution_count": 31,
     "metadata": {},
     "output_type": "execute_result"
    },
    {
     "data": {
      "image/png": "[encoded data removed]",
      "text/plain": [
       "<Figure size 432x288 with 1 Axes>"
      ]
     },
     "metadata": {},
     "output_type": "display_data"
    }
   ],
   "source": [
    "sn.distplot(y_test-predict,bins=30)"
   ]
  },
  {
   "cell_type": "code",
   "execution_count": 33,
   "metadata": {},
   "outputs": [],
   "source": [
    "x = df_notnull[['Price','Open','High','Low']]\n",
    "y = df_notnull['new']"
   ]
  },
  {
   "cell_type": "code",
   "execution_count": 34,
   "metadata": {},
   "outputs": [],
   "source": [
    "from sklearn.model_selection import train_test_split\n",
    "X_train,X_test,y_train,y_test= train_test_split(x,y,test_size=0.33,random_state=30)"
   ]
  },
  {
   "cell_type": "code",
   "execution_count": 36,
   "metadata": {},
   "outputs": [
    {
     "data": {
      "text/html": [
       "<div>\n",
       "<style scoped>\n",
       "    .dataframe tbody tr th:only-of-type {\n",
       "        vertical-align: middle;\n",
       "    }\n",
       "\n",
       "    .dataframe tbody tr th {\n",
       "        vertical-align: top;\n",
       "    }\n",
       "\n",
       "    .dataframe thead th {\n",
       "        text-align: right;\n",
       "    }\n",
       "</style>\n",
       "<table border=\"1\" class=\"dataframe\">\n",
       "  <thead>\n",
       "    <tr style=\"text-align: right;\">\n",
       "      <th></th>\n",
       "      <th>Price</th>\n",
       "      <th>Open</th>\n",
       "      <th>High</th>\n",
       "      <th>Low</th>\n",
       "    </tr>\n",
       "  </thead>\n",
       "  <tbody>\n",
       "    <tr>\n",
       "      <th>195</th>\n",
       "      <td>29976</td>\n",
       "      <td>30219</td>\n",
       "      <td>30259</td>\n",
       "      <td>29950</td>\n",
       "    </tr>\n",
       "    <tr>\n",
       "      <th>166</th>\n",
       "      <td>29092</td>\n",
       "      <td>28890</td>\n",
       "      <td>29110</td>\n",
       "      <td>28888</td>\n",
       "    </tr>\n",
       "    <tr>\n",
       "      <th>244</th>\n",
       "      <td>31410</td>\n",
       "      <td>31243</td>\n",
       "      <td>31483</td>\n",
       "      <td>31177</td>\n",
       "    </tr>\n",
       "    <tr>\n",
       "      <th>80</th>\n",
       "      <td>29086</td>\n",
       "      <td>29001</td>\n",
       "      <td>29134</td>\n",
       "      <td>28716</td>\n",
       "    </tr>\n",
       "    <tr>\n",
       "      <th>383</th>\n",
       "      <td>31783</td>\n",
       "      <td>31671</td>\n",
       "      <td>31818</td>\n",
       "      <td>31619</td>\n",
       "    </tr>\n",
       "  </tbody>\n",
       "</table>\n",
       "</div>"
      ],
      "text/plain": [
       "     Price   Open   High    Low\n",
       "195  29976  30219  30259  29950\n",
       "166  29092  28890  29110  28888\n",
       "244  31410  31243  31483  31177\n",
       "80   29086  29001  29134  28716\n",
       "383  31783  31671  31818  31619"
      ]
     },
     "execution_count": 36,
     "metadata": {},
     "output_type": "execute_result"
    }
   ],
   "source": [
    "\n",
    "X_train.head()"
   ]
  },
  {
   "cell_type": "code",
   "execution_count": 37,
   "metadata": {},
   "outputs": [
    {
     "data": {
      "text/plain": [
       "195     66.268247\n",
       "166    425.567710\n",
       "244    475.286878\n",
       "80     508.385848\n",
       "383    312.032164\n",
       "Name: new, dtype: float64"
      ]
     },
     "execution_count": 37,
     "metadata": {},
     "output_type": "execute_result"
    }
   ],
   "source": [
    "y_train.head()"
   ]
  },
  {
   "cell_type": "code",
   "execution_count": 38,
   "metadata": {},
   "outputs": [],
   "source": [
    "from sklearn import linear_model"
   ]
  },
  {
   "cell_type": "code",
   "execution_count": 39,
   "metadata": {},
   "outputs": [],
   "source": [
    "lg=linear_model.LinearRegression()"
   ]
  },
  {
   "cell_type": "code",
   "execution_count": 40,
   "metadata": {},
   "outputs": [
    {
     "data": {
      "text/plain": [
       "LinearRegression(copy_X=True, fit_intercept=True, n_jobs=1, normalize=False)"
      ]
     },
     "execution_count": 40,
     "metadata": {},
     "output_type": "execute_result"
    }
   ],
   "source": [
    "lg.fit(X_train,y_train)"
   ]
  },
  {
   "cell_type": "code",
   "execution_count": 41,
   "metadata": {},
   "outputs": [
    {
     "data": {
      "text/plain": [
       "array([ 1.01146732, -1.00065894,  1.00481889, -1.01566323])"
      ]
     },
     "execution_count": 41,
     "metadata": {},
     "output_type": "execute_result"
    }
   ],
   "source": [
    "lg.coef_"
   ]
  },
  {
   "cell_type": "code",
   "execution_count": 42,
   "metadata": {},
   "outputs": [
    {
     "data": {
      "text/html": [
       "<div>\n",
       "<style scoped>\n",
       "    .dataframe tbody tr th:only-of-type {\n",
       "        vertical-align: middle;\n",
       "    }\n",
       "\n",
       "    .dataframe tbody tr th {\n",
       "        vertical-align: top;\n",
       "    }\n",
       "\n",
       "    .dataframe thead th {\n",
       "        text-align: right;\n",
       "    }\n",
       "</style>\n",
       "<table border=\"1\" class=\"dataframe\">\n",
       "  <thead>\n",
       "    <tr style=\"text-align: right;\">\n",
       "      <th></th>\n",
       "      <th>coefficient</th>\n",
       "    </tr>\n",
       "  </thead>\n",
       "  <tbody>\n",
       "    <tr>\n",
       "      <th>Price</th>\n",
       "      <td>1.011467</td>\n",
       "    </tr>\n",
       "    <tr>\n",
       "      <th>Open</th>\n",
       "      <td>-1.000659</td>\n",
       "    </tr>\n",
       "    <tr>\n",
       "      <th>High</th>\n",
       "      <td>1.004819</td>\n",
       "    </tr>\n",
       "    <tr>\n",
       "      <th>Low</th>\n",
       "      <td>-1.015663</td>\n",
       "    </tr>\n",
       "  </tbody>\n",
       "</table>\n",
       "</div>"
      ],
      "text/plain": [
       "       coefficient\n",
       "Price     1.011467\n",
       "Open     -1.000659\n",
       "High      1.004819\n",
       "Low      -1.015663"
      ]
     },
     "execution_count": 42,
     "metadata": {},
     "output_type": "execute_result"
    }
   ],
   "source": [
    "coefficient= pd.DataFrame(lg.coef_,x.columns,columns=['coefficient'])\n",
    "coefficient"
   ]
  },
  {
   "cell_type": "code",
   "execution_count": 43,
   "metadata": {},
   "outputs": [],
   "source": [
    "predict = lg.predict(X_test)"
   ]
  },
  {
   "cell_type": "code",
   "execution_count": 44,
   "metadata": {},
   "outputs": [
    {
     "data": {
      "text/plain": [
       "<matplotlib.collections.PathCollection at 0x7f7780227748>"
      ]
     },
     "execution_count": 44,
     "metadata": {},
     "output_type": "execute_result"
    },
    {
     "data": {
      "image/png": "[encoded data removed]",
      "text/plain": [
       "<Figure size 432x288 with 1 Axes>"
      ]
     },
     "metadata": {},
     "output_type": "display_data"
    }
   ],
   "source": [
    "plt.scatter(y_test,predict,c=['g','r'])"
   ]
  },
  {
   "cell_type": "code",
   "execution_count": 45,
   "metadata": {},
   "outputs": [
    {
     "data": {
      "text/plain": [
       "Date        0\n",
       "Price       0\n",
       "Open        0\n",
       "High        0\n",
       "Low         0\n",
       "Vol.        0\n",
       "Change %    0\n",
       "Pred        0\n",
       "new         0\n",
       "dtype: int64"
      ]
     },
     "execution_count": 45,
     "metadata": {},
     "output_type": "execute_result"
    }
   ],
   "source": [
    "df.isnull().sum()"
   ]
  },
  {
   "cell_type": "code",
   "execution_count": 46,
   "metadata": {},
   "outputs": [
    {
     "name": "stderr",
     "output_type": "stream",
     "text": [
      "/opt/anaconda/lib/python3.6/site-packages/matplotlib/axes/_axes.py:6462: UserWarning: The 'normed' kwarg is deprecated, and has been replaced by the 'density' kwarg.\n",
      "  warnings.warn(\"The 'normed' kwarg is deprecated, and has been \"\n"
     ]
    },
    {
     "data": {
      "text/plain": [
       "<matplotlib.axes._subplots.AxesSubplot at 0x7f77801d52b0>"
      ]
     },
     "execution_count": 46,
     "metadata": {},
     "output_type": "execute_result"
    },
    {
     "data": {
      "image/png": "[encoded data removed]",
      "text/plain": [
       "<Figure size 432x288 with 1 Axes>"
      ]
     },
     "metadata": {},
     "output_type": "display_data"
    }
   ],
   "source": [
    "sn.distplot(y_test-predict,bins=30)"
   ]
  },
  {
   "cell_type": "code",
   "execution_count": null,
   "metadata": {},
   "outputs": [],
   "source": [
    "query 2"
   ]
  },
  {
   "cell_type": "code",
   "execution_count": 33,
   "metadata": {},
   "outputs": [
    {
     "name": "stdout",
     "output_type": "stream",
     "text": [
      "              PNB    nifty\n",
      "Date                      \n",
      "15-May-17  166.80  9445.40\n",
      "16-May-17  174.15  9512.25\n",
      "17-May-17  165.05  9525.75\n",
      "18-May-17  158.50  9429.45\n",
      "19-May-17  155.20  9427.90\n"
     ]
    },
    {
     "data": {
      "text/html": [
       "<div>\n",
       "<style scoped>\n",
       "    .dataframe tbody tr th:only-of-type {\n",
       "        vertical-align: middle;\n",
       "    }\n",
       "\n",
       "    .dataframe tbody tr th {\n",
       "        vertical-align: top;\n",
       "    }\n",
       "\n",
       "    .dataframe thead th {\n",
       "        text-align: right;\n",
       "    }\n",
       "</style>\n",
       "<table border=\"1\" class=\"dataframe\">\n",
       "  <thead>\n",
       "    <tr style=\"text-align: right;\">\n",
       "      <th></th>\n",
       "      <th>PNB</th>\n",
       "      <th>nifty</th>\n",
       "    </tr>\n",
       "    <tr>\n",
       "      <th>Date</th>\n",
       "      <th></th>\n",
       "      <th></th>\n",
       "    </tr>\n",
       "  </thead>\n",
       "  <tbody>\n",
       "    <tr>\n",
       "      <th>16-May-17</th>\n",
       "      <td>0.044065</td>\n",
       "      <td>0.007078</td>\n",
       "    </tr>\n",
       "    <tr>\n",
       "      <th>17-May-17</th>\n",
       "      <td>-0.052254</td>\n",
       "      <td>0.001419</td>\n",
       "    </tr>\n",
       "    <tr>\n",
       "      <th>18-May-17</th>\n",
       "      <td>-0.039685</td>\n",
       "      <td>-0.010109</td>\n",
       "    </tr>\n",
       "    <tr>\n",
       "      <th>19-May-17</th>\n",
       "      <td>-0.020820</td>\n",
       "      <td>-0.000164</td>\n",
       "    </tr>\n",
       "    <tr>\n",
       "      <th>22-May-17</th>\n",
       "      <td>-0.027384</td>\n",
       "      <td>0.001098</td>\n",
       "    </tr>\n",
       "  </tbody>\n",
       "</table>\n",
       "</div>"
      ],
      "text/plain": [
       "                PNB     nifty\n",
       "Date                         \n",
       "16-May-17  0.044065  0.007078\n",
       "17-May-17 -0.052254  0.001419\n",
       "18-May-17 -0.039685 -0.010109\n",
       "19-May-17 -0.020820 -0.000164\n",
       "22-May-17 -0.027384  0.001098"
      ]
     },
     "execution_count": 33,
     "metadata": {},
     "output_type": "execute_result"
    }
   ],
   "source": [
    "import pandas as pd\n",
    "import statsmodels.api as sn\n",
    "\n",
    "PNB =pd.read_csv(\"PNB.csv\")\n",
    "PNB=PNB[PNB.Series=='EQ']\n",
    "PNB.index=LT.Date\n",
    "nifty=pd.read_csv(\"Nifty50.csv\")\n",
    "nifty.index=nifty.Date\n",
    "prices = pd.concat([LT['Close Price'],nifty['Close']],axis=1)\n",
    "prices.columns = ['PNB','nifty']\n",
    "print(prices.head())\n",
    "\n",
    "pctchange=prices.pct_change()\n",
    "pctchange=pctchange.dropna(axis=0)\n",
    "pctchange.head()"
   ]
  },
  {
   "cell_type": "code",
   "execution_count": 8,
   "metadata": {},
   "outputs": [],
   "source": [
    "pctchange=pctchange.iloc[-60:,:]"
   ]
  },
  {
   "cell_type": "code",
   "execution_count": 9,
   "metadata": {},
   "outputs": [
    {
     "data": {
      "text/html": [
       "<div>\n",
       "<style scoped>\n",
       "    .dataframe tbody tr th:only-of-type {\n",
       "        vertical-align: middle;\n",
       "    }\n",
       "\n",
       "    .dataframe tbody tr th {\n",
       "        vertical-align: top;\n",
       "    }\n",
       "\n",
       "    .dataframe thead th {\n",
       "        text-align: right;\n",
       "    }\n",
       "</style>\n",
       "<table border=\"1\" class=\"dataframe\">\n",
       "  <thead>\n",
       "    <tr style=\"text-align: right;\">\n",
       "      <th></th>\n",
       "      <th>PNB</th>\n",
       "      <th>nifty</th>\n",
       "    </tr>\n",
       "    <tr>\n",
       "      <th>Date</th>\n",
       "      <th></th>\n",
       "      <th></th>\n",
       "    </tr>\n",
       "  </thead>\n",
       "  <tbody>\n",
       "    <tr>\n",
       "      <th>11-Feb-19</th>\n",
       "      <td>-0.004916</td>\n",
       "      <td>-0.005007</td>\n",
       "    </tr>\n",
       "    <tr>\n",
       "      <th>12-Feb-19</th>\n",
       "      <td>0.007057</td>\n",
       "      <td>-0.005271</td>\n",
       "    </tr>\n",
       "    <tr>\n",
       "      <th>13-Feb-19</th>\n",
       "      <td>-0.026629</td>\n",
       "      <td>-0.003485</td>\n",
       "    </tr>\n",
       "    <tr>\n",
       "      <th>14-Feb-19</th>\n",
       "      <td>0.040317</td>\n",
       "      <td>-0.004410</td>\n",
       "    </tr>\n",
       "    <tr>\n",
       "      <th>15-Feb-19</th>\n",
       "      <td>-0.030450</td>\n",
       "      <td>-0.002015</td>\n",
       "    </tr>\n",
       "    <tr>\n",
       "      <th>18-Feb-19</th>\n",
       "      <td>-0.014989</td>\n",
       "      <td>-0.007781</td>\n",
       "    </tr>\n",
       "    <tr>\n",
       "      <th>19-Feb-19</th>\n",
       "      <td>0.013768</td>\n",
       "      <td>-0.003440</td>\n",
       "    </tr>\n",
       "    <tr>\n",
       "      <th>20-Feb-19</th>\n",
       "      <td>0.016440</td>\n",
       "      <td>0.012363</td>\n",
       "    </tr>\n",
       "    <tr>\n",
       "      <th>21-Feb-19</th>\n",
       "      <td>0.028833</td>\n",
       "      <td>0.005067</td>\n",
       "    </tr>\n",
       "    <tr>\n",
       "      <th>22-Feb-19</th>\n",
       "      <td>0.000684</td>\n",
       "      <td>0.000167</td>\n",
       "    </tr>\n",
       "    <tr>\n",
       "      <th>25-Feb-19</th>\n",
       "      <td>0.004098</td>\n",
       "      <td>0.008196</td>\n",
       "    </tr>\n",
       "    <tr>\n",
       "      <th>26-Feb-19</th>\n",
       "      <td>-0.022449</td>\n",
       "      <td>-0.004118</td>\n",
       "    </tr>\n",
       "    <tr>\n",
       "      <th>27-Feb-19</th>\n",
       "      <td>-0.004871</td>\n",
       "      <td>-0.002644</td>\n",
       "    </tr>\n",
       "    <tr>\n",
       "      <th>28-Feb-19</th>\n",
       "      <td>0.011189</td>\n",
       "      <td>-0.001309</td>\n",
       "    </tr>\n",
       "    <tr>\n",
       "      <th>01-Mar-19</th>\n",
       "      <td>0.060166</td>\n",
       "      <td>0.006579</td>\n",
       "    </tr>\n",
       "    <tr>\n",
       "      <th>05-Mar-19</th>\n",
       "      <td>0.078278</td>\n",
       "      <td>0.011410</td>\n",
       "    </tr>\n",
       "    <tr>\n",
       "      <th>06-Mar-19</th>\n",
       "      <td>-0.003025</td>\n",
       "      <td>0.005966</td>\n",
       "    </tr>\n",
       "    <tr>\n",
       "      <th>07-Mar-19</th>\n",
       "      <td>0.037015</td>\n",
       "      <td>0.000470</td>\n",
       "    </tr>\n",
       "    <tr>\n",
       "      <th>08-Mar-19</th>\n",
       "      <td>-0.019310</td>\n",
       "      <td>-0.002062</td>\n",
       "    </tr>\n",
       "    <tr>\n",
       "      <th>11-Mar-19</th>\n",
       "      <td>0.024463</td>\n",
       "      <td>0.012020</td>\n",
       "    </tr>\n",
       "    <tr>\n",
       "      <th>12-Mar-19</th>\n",
       "      <td>-0.005242</td>\n",
       "      <td>0.011922</td>\n",
       "    </tr>\n",
       "    <tr>\n",
       "      <th>13-Mar-19</th>\n",
       "      <td>-0.006440</td>\n",
       "      <td>0.003584</td>\n",
       "    </tr>\n",
       "    <tr>\n",
       "      <th>14-Mar-19</th>\n",
       "      <td>-0.004714</td>\n",
       "      <td>0.000137</td>\n",
       "    </tr>\n",
       "    <tr>\n",
       "      <th>15-Mar-19</th>\n",
       "      <td>0.018946</td>\n",
       "      <td>0.007370</td>\n",
       "    </tr>\n",
       "    <tr>\n",
       "      <th>18-Mar-19</th>\n",
       "      <td>0.006973</td>\n",
       "      <td>0.003094</td>\n",
       "    </tr>\n",
       "    <tr>\n",
       "      <th>19-Mar-19</th>\n",
       "      <td>0.044432</td>\n",
       "      <td>0.006124</td>\n",
       "    </tr>\n",
       "    <tr>\n",
       "      <th>20-Mar-19</th>\n",
       "      <td>0.033702</td>\n",
       "      <td>-0.000984</td>\n",
       "    </tr>\n",
       "    <tr>\n",
       "      <th>22-Mar-19</th>\n",
       "      <td>-0.021379</td>\n",
       "      <td>-0.005568</td>\n",
       "    </tr>\n",
       "    <tr>\n",
       "      <th>25-Mar-19</th>\n",
       "      <td>-0.013654</td>\n",
       "      <td>-0.008960</td>\n",
       "    </tr>\n",
       "    <tr>\n",
       "      <th>26-Mar-19</th>\n",
       "      <td>0.024363</td>\n",
       "      <td>0.011361</td>\n",
       "    </tr>\n",
       "    <tr>\n",
       "      <th>27-Mar-19</th>\n",
       "      <td>0.009730</td>\n",
       "      <td>-0.003327</td>\n",
       "    </tr>\n",
       "    <tr>\n",
       "      <th>28-Mar-19</th>\n",
       "      <td>0.020878</td>\n",
       "      <td>0.010917</td>\n",
       "    </tr>\n",
       "    <tr>\n",
       "      <th>29-Mar-19</th>\n",
       "      <td>0.001573</td>\n",
       "      <td>0.004659</td>\n",
       "    </tr>\n",
       "    <tr>\n",
       "      <th>01-Apr-19</th>\n",
       "      <td>0.020942</td>\n",
       "      <td>0.003893</td>\n",
       "    </tr>\n",
       "    <tr>\n",
       "      <th>02-Apr-19</th>\n",
       "      <td>0.008205</td>\n",
       "      <td>0.003775</td>\n",
       "    </tr>\n",
       "    <tr>\n",
       "      <th>03-Apr-19</th>\n",
       "      <td>-0.039166</td>\n",
       "      <td>-0.005912</td>\n",
       "    </tr>\n",
       "    <tr>\n",
       "      <th>04-Apr-19</th>\n",
       "      <td>-0.008470</td>\n",
       "      <td>-0.003946</td>\n",
       "    </tr>\n",
       "    <tr>\n",
       "      <th>05-Apr-19</th>\n",
       "      <td>-0.005873</td>\n",
       "      <td>0.005859</td>\n",
       "    </tr>\n",
       "    <tr>\n",
       "      <th>08-Apr-19</th>\n",
       "      <td>0.000000</td>\n",
       "      <td>-0.005267</td>\n",
       "    </tr>\n",
       "    <tr>\n",
       "      <th>09-Apr-19</th>\n",
       "      <td>0.013426</td>\n",
       "      <td>0.005812</td>\n",
       "    </tr>\n",
       "    <tr>\n",
       "      <th>10-Apr-19</th>\n",
       "      <td>-0.010599</td>\n",
       "      <td>-0.007509</td>\n",
       "    </tr>\n",
       "    <tr>\n",
       "      <th>11-Apr-19</th>\n",
       "      <td>-0.006963</td>\n",
       "      <td>0.001070</td>\n",
       "    </tr>\n",
       "    <tr>\n",
       "      <th>12-Apr-19</th>\n",
       "      <td>0.007012</td>\n",
       "      <td>0.004031</td>\n",
       "    </tr>\n",
       "    <tr>\n",
       "      <th>15-Apr-19</th>\n",
       "      <td>0.005356</td>\n",
       "      <td>0.004028</td>\n",
       "    </tr>\n",
       "    <tr>\n",
       "      <th>16-Apr-19</th>\n",
       "      <td>-0.011188</td>\n",
       "      <td>0.008280</td>\n",
       "    </tr>\n",
       "    <tr>\n",
       "      <th>18-Apr-19</th>\n",
       "      <td>-0.029634</td>\n",
       "      <td>-0.002914</td>\n",
       "    </tr>\n",
       "    <tr>\n",
       "      <th>22-Apr-19</th>\n",
       "      <td>-0.037757</td>\n",
       "      <td>-0.013473</td>\n",
       "    </tr>\n",
       "    <tr>\n",
       "      <th>23-Apr-19</th>\n",
       "      <td>0.006347</td>\n",
       "      <td>-0.001596</td>\n",
       "    </tr>\n",
       "    <tr>\n",
       "      <th>24-Apr-19</th>\n",
       "      <td>0.013188</td>\n",
       "      <td>0.012975</td>\n",
       "    </tr>\n",
       "    <tr>\n",
       "      <th>25-Apr-19</th>\n",
       "      <td>-0.018110</td>\n",
       "      <td>-0.007193</td>\n",
       "    </tr>\n",
       "    <tr>\n",
       "      <th>26-Apr-19</th>\n",
       "      <td>0.016138</td>\n",
       "      <td>0.009694</td>\n",
       "    </tr>\n",
       "    <tr>\n",
       "      <th>30-Apr-19</th>\n",
       "      <td>-0.036869</td>\n",
       "      <td>-0.000553</td>\n",
       "    </tr>\n",
       "    <tr>\n",
       "      <th>02-May-19</th>\n",
       "      <td>0.014134</td>\n",
       "      <td>-0.001992</td>\n",
       "    </tr>\n",
       "    <tr>\n",
       "      <th>03-May-19</th>\n",
       "      <td>0.012195</td>\n",
       "      <td>-0.001066</td>\n",
       "    </tr>\n",
       "    <tr>\n",
       "      <th>06-May-19</th>\n",
       "      <td>-0.010327</td>\n",
       "      <td>-0.009733</td>\n",
       "    </tr>\n",
       "    <tr>\n",
       "      <th>07-May-19</th>\n",
       "      <td>-0.026667</td>\n",
       "      <td>-0.008652</td>\n",
       "    </tr>\n",
       "    <tr>\n",
       "      <th>08-May-19</th>\n",
       "      <td>0.000000</td>\n",
       "      <td>-0.012041</td>\n",
       "    </tr>\n",
       "    <tr>\n",
       "      <th>09-May-19</th>\n",
       "      <td>0.003574</td>\n",
       "      <td>-0.005075</td>\n",
       "    </tr>\n",
       "    <tr>\n",
       "      <th>10-May-19</th>\n",
       "      <td>0.023739</td>\n",
       "      <td>-0.002026</td>\n",
       "    </tr>\n",
       "    <tr>\n",
       "      <th>13-May-19</th>\n",
       "      <td>-0.074783</td>\n",
       "      <td>-0.011588</td>\n",
       "    </tr>\n",
       "  </tbody>\n",
       "</table>\n",
       "</div>"
      ],
      "text/plain": [
       "                PNB     nifty\n",
       "Date                         \n",
       "11-Feb-19 -0.004916 -0.005007\n",
       "12-Feb-19  0.007057 -0.005271\n",
       "13-Feb-19 -0.026629 -0.003485\n",
       "14-Feb-19  0.040317 -0.004410\n",
       "15-Feb-19 -0.030450 -0.002015\n",
       "18-Feb-19 -0.014989 -0.007781\n",
       "19-Feb-19  0.013768 -0.003440\n",
       "20-Feb-19  0.016440  0.012363\n",
       "21-Feb-19  0.028833  0.005067\n",
       "22-Feb-19  0.000684  0.000167\n",
       "25-Feb-19  0.004098  0.008196\n",
       "26-Feb-19 -0.022449 -0.004118\n",
       "27-Feb-19 -0.004871 -0.002644\n",
       "28-Feb-19  0.011189 -0.001309\n",
       "01-Mar-19  0.060166  0.006579\n",
       "05-Mar-19  0.078278  0.011410\n",
       "06-Mar-19 -0.003025  0.005966\n",
       "07-Mar-19  0.037015  0.000470\n",
       "08-Mar-19 -0.019310 -0.002062\n",
       "11-Mar-19  0.024463  0.012020\n",
       "12-Mar-19 -0.005242  0.011922\n",
       "13-Mar-19 -0.006440  0.003584\n",
       "14-Mar-19 -0.004714  0.000137\n",
       "15-Mar-19  0.018946  0.007370\n",
       "18-Mar-19  0.006973  0.003094\n",
       "19-Mar-19  0.044432  0.006124\n",
       "20-Mar-19  0.033702 -0.000984\n",
       "22-Mar-19 -0.021379 -0.005568\n",
       "25-Mar-19 -0.013654 -0.008960\n",
       "26-Mar-19  0.024363  0.011361\n",
       "27-Mar-19  0.009730 -0.003327\n",
       "28-Mar-19  0.020878  0.010917\n",
       "29-Mar-19  0.001573  0.004659\n",
       "01-Apr-19  0.020942  0.003893\n",
       "02-Apr-19  0.008205  0.003775\n",
       "03-Apr-19 -0.039166 -0.005912\n",
       "04-Apr-19 -0.008470 -0.003946\n",
       "05-Apr-19 -0.005873  0.005859\n",
       "08-Apr-19  0.000000 -0.005267\n",
       "09-Apr-19  0.013426  0.005812\n",
       "10-Apr-19 -0.010599 -0.007509\n",
       "11-Apr-19 -0.006963  0.001070\n",
       "12-Apr-19  0.007012  0.004031\n",
       "15-Apr-19  0.005356  0.004028\n",
       "16-Apr-19 -0.011188  0.008280\n",
       "18-Apr-19 -0.029634 -0.002914\n",
       "22-Apr-19 -0.037757 -0.013473\n",
       "23-Apr-19  0.006347 -0.001596\n",
       "24-Apr-19  0.013188  0.012975\n",
       "25-Apr-19 -0.018110 -0.007193\n",
       "26-Apr-19  0.016138  0.009694\n",
       "30-Apr-19 -0.036869 -0.000553\n",
       "02-May-19  0.014134 -0.001992\n",
       "03-May-19  0.012195 -0.001066\n",
       "06-May-19 -0.010327 -0.009733\n",
       "07-May-19 -0.026667 -0.008652\n",
       "08-May-19  0.000000 -0.012041\n",
       "09-May-19  0.003574 -0.005075\n",
       "10-May-19  0.023739 -0.002026\n",
       "13-May-19 -0.074783 -0.011588"
      ]
     },
     "execution_count": 9,
     "metadata": {},
     "output_type": "execute_result"
    }
   ],
   "source": [
    "pctchange"
   ]
  },
  {
   "cell_type": "code",
   "execution_count": 10,
   "metadata": {},
   "outputs": [
    {
     "name": "stdout",
     "output_type": "stream",
     "text": [
      "                            OLS Regression Results                            \n",
      "==============================================================================\n",
      "Dep. Variable:                    PNB   R-squared:                       0.319\n",
      "Model:                            OLS   Adj. R-squared:                  0.308\n",
      "Method:                 Least Squares   F-statistic:                     27.21\n",
      "Date:                Sat, 07 Sep 2019   Prob (F-statistic):           2.55e-06\n",
      "Time:                        02:09:43   Log-Likelihood:                 147.98\n",
      "No. Observations:                  60   AIC:                            -292.0\n",
      "Df Residuals:                      58   BIC:                            -287.8\n",
      "Df Model:                           1                                         \n",
      "Covariance Type:            nonrobust                                         \n",
      "==============================================================================\n",
      "                 coef    std err          t      P>|t|      [0.025      0.975]\n",
      "------------------------------------------------------------------------------\n",
      "const          0.0015      0.003      0.564      0.575      -0.004       0.007\n",
      "nifty          2.0750      0.398      5.216      0.000       1.279       2.871\n",
      "==============================================================================\n",
      "Omnibus:                        2.078   Durbin-Watson:                   1.969\n",
      "Prob(Omnibus):                  0.354   Jarque-Bera (JB):                1.320\n",
      "Skew:                           0.316   Prob(JB):                        0.517\n",
      "Kurtosis:                       3.357   Cond. No.                         147.\n",
      "==============================================================================\n",
      "\n",
      "Warnings:\n",
      "[1] Standard Errors assume that the covariance matrix of the errors is correctly specified.\n"
     ]
    }
   ],
   "source": [
    "x=pctchange['nifty']\n",
    "y=pctchange['PNB']\n",
    "x1=sn.add_constant(x)\n",
    "model = sn.OLS(y,x1)\n",
    "result=model.fit()\n",
    "print(result.summary())"
   ]
  },
  {
   "cell_type": "code",
   "execution_count": 11,
   "metadata": {},
   "outputs": [],
   "source": [
    "prices['month']=prices.index.str.slice(3)\n",
    "\n"
   ]
  },
  {
   "cell_type": "code",
   "execution_count": 12,
   "metadata": {},
   "outputs": [
    {
     "data": {
      "text/plain": [
       "Date\n",
       "15-May-17    May-17\n",
       "16-May-17    May-17\n",
       "17-May-17    May-17\n",
       "18-May-17    May-17\n",
       "19-May-17    May-17\n",
       "22-May-17    May-17\n",
       "23-May-17    May-17\n",
       "24-May-17    May-17\n",
       "25-May-17    May-17\n",
       "26-May-17    May-17\n",
       "29-May-17    May-17\n",
       "30-May-17    May-17\n",
       "31-May-17    May-17\n",
       "01-Jun-17    Jun-17\n",
       "02-Jun-17    Jun-17\n",
       "05-Jun-17    Jun-17\n",
       "06-Jun-17    Jun-17\n",
       "07-Jun-17    Jun-17\n",
       "08-Jun-17    Jun-17\n",
       "09-Jun-17    Jun-17\n",
       "12-Jun-17    Jun-17\n",
       "13-Jun-17    Jun-17\n",
       "14-Jun-17    Jun-17\n",
       "15-Jun-17    Jun-17\n",
       "16-Jun-17    Jun-17\n",
       "19-Jun-17    Jun-17\n",
       "20-Jun-17    Jun-17\n",
       "21-Jun-17    Jun-17\n",
       "22-Jun-17    Jun-17\n",
       "23-Jun-17    Jun-17\n",
       "              ...  \n",
       "27-Mar-19    Mar-19\n",
       "28-Mar-19    Mar-19\n",
       "29-Mar-19    Mar-19\n",
       "01-Apr-19    Apr-19\n",
       "02-Apr-19    Apr-19\n",
       "03-Apr-19    Apr-19\n",
       "04-Apr-19    Apr-19\n",
       "05-Apr-19    Apr-19\n",
       "08-Apr-19    Apr-19\n",
       "09-Apr-19    Apr-19\n",
       "10-Apr-19    Apr-19\n",
       "11-Apr-19    Apr-19\n",
       "12-Apr-19    Apr-19\n",
       "15-Apr-19    Apr-19\n",
       "16-Apr-19    Apr-19\n",
       "18-Apr-19    Apr-19\n",
       "22-Apr-19    Apr-19\n",
       "23-Apr-19    Apr-19\n",
       "24-Apr-19    Apr-19\n",
       "25-Apr-19    Apr-19\n",
       "26-Apr-19    Apr-19\n",
       "30-Apr-19    Apr-19\n",
       "02-May-19    May-19\n",
       "03-May-19    May-19\n",
       "06-May-19    May-19\n",
       "07-May-19    May-19\n",
       "08-May-19    May-19\n",
       "09-May-19    May-19\n",
       "10-May-19    May-19\n",
       "13-May-19    May-19\n",
       "Name: month, Length: 494, dtype: object"
      ]
     },
     "execution_count": 12,
     "metadata": {},
     "output_type": "execute_result"
    }
   ],
   "source": [
    "prices.month"
   ]
  },
  {
   "cell_type": "code",
   "execution_count": 15,
   "metadata": {},
   "outputs": [],
   "source": [
    "month=np.zeros((25,2),dtype =float)\n",
    "for i,j in enumerate (prices.month.unique()):\n",
    "    temp = prices[prices.month==j]\n",
    "    month[i]=temp.iloc[-1,0:2]"
   ]
  },
  {
   "cell_type": "code",
   "execution_count": 16,
   "metadata": {},
   "outputs": [
    {
     "data": {
      "text/plain": [
       "array([[  150.5 ,  9621.25],\n",
       "       [  137.3 ,  9520.9 ],\n",
       "       [  162.3 , 10077.1 ],\n",
       "       [  143.8 ,  9917.9 ],\n",
       "       [  129.05,  9788.6 ],\n",
       "       [  197.15, 10335.3 ],\n",
       "       [  176.1 , 10226.55],\n",
       "       [  171.4 , 10530.7 ],\n",
       "       [  171.35, 11027.7 ],\n",
       "       [  101.4 , 10492.85],\n",
       "       [   95.3 , 10113.7 ],\n",
       "       [   95.4 , 10739.35],\n",
       "       [   83.65, 10736.15],\n",
       "       [   76.15, 10714.3 ],\n",
       "       [   85.1 , 11356.5 ],\n",
       "       [   88.15, 11680.5 ],\n",
       "       [   59.7 , 10930.45],\n",
       "       [   73.65, 10386.6 ],\n",
       "       [   69.9 , 10876.75],\n",
       "       [   78.1 , 10862.55],\n",
       "       [   77.5 , 10830.95],\n",
       "       [   72.3 , 10792.5 ],\n",
       "       [   95.5 , 11623.9 ],\n",
       "       [   84.9 , 11748.15],\n",
       "       [   79.8 , 11148.2 ]])"
      ]
     },
     "execution_count": 16,
     "metadata": {},
     "output_type": "execute_result"
    }
   ],
   "source": [
    "month"
   ]
  },
  {
   "cell_type": "code",
   "execution_count": 17,
   "metadata": {},
   "outputs": [],
   "source": [
    "month=pd.DataFrame(month)"
   ]
  },
  {
   "cell_type": "code",
   "execution_count": 20,
   "metadata": {},
   "outputs": [],
   "source": [
    "month.columns=['PNB','Nifty']\n",
    "month.index=prices['month'].unique()"
   ]
  },
  {
   "cell_type": "code",
   "execution_count": 21,
   "metadata": {},
   "outputs": [
    {
     "data": {
      "text/html": [
       "<div>\n",
       "<style scoped>\n",
       "    .dataframe tbody tr th:only-of-type {\n",
       "        vertical-align: middle;\n",
       "    }\n",
       "\n",
       "    .dataframe tbody tr th {\n",
       "        vertical-align: top;\n",
       "    }\n",
       "\n",
       "    .dataframe thead th {\n",
       "        text-align: right;\n",
       "    }\n",
       "</style>\n",
       "<table border=\"1\" class=\"dataframe\">\n",
       "  <thead>\n",
       "    <tr style=\"text-align: right;\">\n",
       "      <th></th>\n",
       "      <th>PNB</th>\n",
       "      <th>Nifty</th>\n",
       "    </tr>\n",
       "  </thead>\n",
       "  <tbody>\n",
       "    <tr>\n",
       "      <th>May-17</th>\n",
       "      <td>150.50</td>\n",
       "      <td>9621.25</td>\n",
       "    </tr>\n",
       "    <tr>\n",
       "      <th>Jun-17</th>\n",
       "      <td>137.30</td>\n",
       "      <td>9520.90</td>\n",
       "    </tr>\n",
       "    <tr>\n",
       "      <th>Jul-17</th>\n",
       "      <td>162.30</td>\n",
       "      <td>10077.10</td>\n",
       "    </tr>\n",
       "    <tr>\n",
       "      <th>Aug-17</th>\n",
       "      <td>143.80</td>\n",
       "      <td>9917.90</td>\n",
       "    </tr>\n",
       "    <tr>\n",
       "      <th>Sep-17</th>\n",
       "      <td>129.05</td>\n",
       "      <td>9788.60</td>\n",
       "    </tr>\n",
       "    <tr>\n",
       "      <th>Oct-17</th>\n",
       "      <td>197.15</td>\n",
       "      <td>10335.30</td>\n",
       "    </tr>\n",
       "    <tr>\n",
       "      <th>Nov-17</th>\n",
       "      <td>176.10</td>\n",
       "      <td>10226.55</td>\n",
       "    </tr>\n",
       "    <tr>\n",
       "      <th>Dec-17</th>\n",
       "      <td>171.40</td>\n",
       "      <td>10530.70</td>\n",
       "    </tr>\n",
       "    <tr>\n",
       "      <th>Jan-18</th>\n",
       "      <td>171.35</td>\n",
       "      <td>11027.70</td>\n",
       "    </tr>\n",
       "    <tr>\n",
       "      <th>Feb-18</th>\n",
       "      <td>101.40</td>\n",
       "      <td>10492.85</td>\n",
       "    </tr>\n",
       "    <tr>\n",
       "      <th>Mar-18</th>\n",
       "      <td>95.30</td>\n",
       "      <td>10113.70</td>\n",
       "    </tr>\n",
       "    <tr>\n",
       "      <th>Apr-18</th>\n",
       "      <td>95.40</td>\n",
       "      <td>10739.35</td>\n",
       "    </tr>\n",
       "    <tr>\n",
       "      <th>May-18</th>\n",
       "      <td>83.65</td>\n",
       "      <td>10736.15</td>\n",
       "    </tr>\n",
       "    <tr>\n",
       "      <th>Jun-18</th>\n",
       "      <td>76.15</td>\n",
       "      <td>10714.30</td>\n",
       "    </tr>\n",
       "    <tr>\n",
       "      <th>Jul-18</th>\n",
       "      <td>85.10</td>\n",
       "      <td>11356.50</td>\n",
       "    </tr>\n",
       "    <tr>\n",
       "      <th>Aug-18</th>\n",
       "      <td>88.15</td>\n",
       "      <td>11680.50</td>\n",
       "    </tr>\n",
       "    <tr>\n",
       "      <th>Sep-18</th>\n",
       "      <td>59.70</td>\n",
       "      <td>10930.45</td>\n",
       "    </tr>\n",
       "    <tr>\n",
       "      <th>Oct-18</th>\n",
       "      <td>73.65</td>\n",
       "      <td>10386.60</td>\n",
       "    </tr>\n",
       "    <tr>\n",
       "      <th>Nov-18</th>\n",
       "      <td>69.90</td>\n",
       "      <td>10876.75</td>\n",
       "    </tr>\n",
       "    <tr>\n",
       "      <th>Dec-18</th>\n",
       "      <td>78.10</td>\n",
       "      <td>10862.55</td>\n",
       "    </tr>\n",
       "    <tr>\n",
       "      <th>Jan-19</th>\n",
       "      <td>77.50</td>\n",
       "      <td>10830.95</td>\n",
       "    </tr>\n",
       "    <tr>\n",
       "      <th>Feb-19</th>\n",
       "      <td>72.30</td>\n",
       "      <td>10792.50</td>\n",
       "    </tr>\n",
       "    <tr>\n",
       "      <th>Mar-19</th>\n",
       "      <td>95.50</td>\n",
       "      <td>11623.90</td>\n",
       "    </tr>\n",
       "    <tr>\n",
       "      <th>Apr-19</th>\n",
       "      <td>84.90</td>\n",
       "      <td>11748.15</td>\n",
       "    </tr>\n",
       "    <tr>\n",
       "      <th>May-19</th>\n",
       "      <td>79.80</td>\n",
       "      <td>11148.20</td>\n",
       "    </tr>\n",
       "  </tbody>\n",
       "</table>\n",
       "</div>"
      ],
      "text/plain": [
       "           PNB     Nifty\n",
       "May-17  150.50   9621.25\n",
       "Jun-17  137.30   9520.90\n",
       "Jul-17  162.30  10077.10\n",
       "Aug-17  143.80   9917.90\n",
       "Sep-17  129.05   9788.60\n",
       "Oct-17  197.15  10335.30\n",
       "Nov-17  176.10  10226.55\n",
       "Dec-17  171.40  10530.70\n",
       "Jan-18  171.35  11027.70\n",
       "Feb-18  101.40  10492.85\n",
       "Mar-18   95.30  10113.70\n",
       "Apr-18   95.40  10739.35\n",
       "May-18   83.65  10736.15\n",
       "Jun-18   76.15  10714.30\n",
       "Jul-18   85.10  11356.50\n",
       "Aug-18   88.15  11680.50\n",
       "Sep-18   59.70  10930.45\n",
       "Oct-18   73.65  10386.60\n",
       "Nov-18   69.90  10876.75\n",
       "Dec-18   78.10  10862.55\n",
       "Jan-19   77.50  10830.95\n",
       "Feb-19   72.30  10792.50\n",
       "Mar-19   95.50  11623.90\n",
       "Apr-19   84.90  11748.15\n",
       "May-19   79.80  11148.20"
      ]
     },
     "execution_count": 21,
     "metadata": {},
     "output_type": "execute_result"
    }
   ],
   "source": [
    "month"
   ]
  },
  {
   "cell_type": "code",
   "execution_count": 28,
   "metadata": {},
   "outputs": [],
   "source": [
    "pctcng=month.pct_change()\n",
    "pctcng = pctcng.dropna(axis=0)\n"
   ]
  },
  {
   "cell_type": "code",
   "execution_count": 34,
   "metadata": {},
   "outputs": [
    {
     "name": "stdout",
     "output_type": "stream",
     "text": [
      "                            OLS Regression Results                            \n",
      "==============================================================================\n",
      "Dep. Variable:                    PNB   R-squared:                       0.363\n",
      "Model:                            OLS   Adj. R-squared:                  0.334\n",
      "Method:                 Least Squares   F-statistic:                     12.51\n",
      "Date:                Sat, 07 Sep 2019   Prob (F-statistic):            0.00185\n",
      "Time:                        02:25:35   Log-Likelihood:                 11.289\n",
      "No. Observations:                  24   AIC:                            -18.58\n",
      "Df Residuals:                      22   BIC:                            -16.22\n",
      "Df Model:                           1                                         \n",
      "Covariance Type:            nonrobust                                         \n",
      "==============================================================================\n",
      "                 coef    std err          t      P>|t|      [0.025      0.975]\n",
      "------------------------------------------------------------------------------\n",
      "const         -0.0282      0.033     -0.863      0.397      -0.096       0.040\n",
      "Nifty          2.8454      0.804      3.537      0.002       1.177       4.514\n",
      "==============================================================================\n",
      "Omnibus:                       11.200   Durbin-Watson:                   2.564\n",
      "Prob(Omnibus):                  0.004   Jarque-Bera (JB):                9.357\n",
      "Skew:                           1.309   Prob(JB):                      0.00929\n",
      "Kurtosis:                       4.581   Cond. No.                         25.0\n",
      "==============================================================================\n",
      "\n",
      "Warnings:\n",
      "[1] Standard Errors assume that the covariance matrix of the errors is correctly specified.\n"
     ]
    }
   ],
   "source": [
    "x=pctcng['Nifty']\n",
    "y=pctcng['PNB']\n",
    "x1=sn.add_constant(x)\n",
    "model = sn.OLS(y,x1)\n",
    "result=model.fit()\n",
    "print(result.summary())"
   ]
  },
  {
   "cell_type": "code",
   "execution_count": null,
   "metadata": {},
   "outputs": [],
   "source": []
  }
 ],
 "metadata": {
  "kernelspec": {
   "display_name": "Python 3",
   "language": "python",
   "name": "python3"
  },
  "language_info": {
   "codemirror_mode": {
    "name": "ipython",
    "version": 3
   },
   "file_extension": ".py",
   "mimetype": "text/x-python",
   "name": "python",
   "nbconvert_exporter": "python",
   "pygments_lexer": "ipython3",
   "version": "3.6.5"
  }
 },
 "nbformat": 4,
 "nbformat_minor": 2
}
